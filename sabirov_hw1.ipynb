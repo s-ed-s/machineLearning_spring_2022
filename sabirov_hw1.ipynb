{
 "cells": [
  {
   "cell_type": "markdown",
   "metadata": {},
   "source": [
    "## Общая информация\n",
    "\n",
    "**Срок сдачи:** 5 апреля 2022, 08:30 \n",
    "\n",
    "**Штраф за опоздание:** по 1 баллу за 24 часа задержки. Через 5 дней домашнее задание сгорает.\n",
    "\n",
    "При отправлении ДЗ указывайте фамилию в названии файла\n",
    "Присылать ДЗ необходимо в виде ссылки на свой github репозиторий на почту ml1.sphere@mail.ru с указанием темы в следующем формате:\n",
    "\n",
    "[ML0220, Задание 1] Фамилия Имя.\n",
    "\n",
    "Используйте данный Ipython Notebook при оформлении домашнего задания."
   ]
  },
  {
   "cell_type": "markdown",
   "metadata": {},
   "source": [
    "\n",
    "**Штрафные баллы:**\n",
    "\n",
    "1. Отсутствие фамилии в имени скрипта (скрипт должен называться по аналогии со stroykova_hw1.ipynb) -0.5 баллов\n",
    "2. Все строчки должны быть выполнены. Нужно, чтобы output команды можно было увидеть уже в git'е. В противном случае -0.5 баллов\n"
   ]
  },
  {
   "cell_type": "code",
   "execution_count": 73,
   "metadata": {
    "jupyter": {
     "outputs_hidden": true
    }
   },
   "outputs": [],
   "source": [
    "import numpy as np\n",
    "import matplotlib.pyplot as plt\n",
    "import ipywidgets as widgets\n",
    "\n",
    "import seaborn as sns\n",
    "from scipy.spatial.distance import cosine\n",
    "from sklearn import datasets\n",
    "from sklearn.base import BaseEstimator\n",
    "from sklearn.datasets import fetch_openml, fetch_20newsgroups\n",
    "\n",
    "from sklearn.model_selection import train_test_split, KFold, cross_val_score\n",
    "from sklearn.neighbors import KNeighborsClassifier, KDTree\n",
    "from sklearn.metrics import accuracy_score, pairwise_distances\n",
    "from sklearn.preprocessing import StandardScaler\n",
    "from sklearn.feature_extraction.text import CountVectorizer\n",
    "from collections import Counter\n",
    "from scipy import stats\n",
    "from sklearn.feature_extraction.text import TfidfVectorizer"
   ]
  },
  {
   "cell_type": "markdown",
   "metadata": {},
   "source": [
    "### Задание 1 (1 балл)\n",
    "Реализовать KNN в классе MyKNeighborsClassifier (обязательное условие: точность не ниже sklearn реализации)\n",
    "Разберитесь самостоятельно, какая мера расстояния используется в KNeighborsClassifier дефолтно и реализуйте свой алгоритм именно с этой мерой. \n",
    "Для подсчета расстояний можно использовать функции [отсюда](https://docs.scipy.org/doc/scipy/reference/spatial.distance.html)"
   ]
  },
  {
   "cell_type": "code",
   "execution_count": 74,
   "metadata": {
    "jupyter": {
     "outputs_hidden": true
    }
   },
   "outputs": [],
   "source": [
    "class MyKNeighborsClassifier(BaseEstimator):\n",
    "    def __init__(self, n_neighbors, algorithm='brute', weights=\"uniform\", metric=\"euclidean\"):\n",
    "        self.n_neighbors = n_neighbors\n",
    "        self.algorithm = algorithm\n",
    "        self.metric = metric\n",
    "        self.weights = weights\n",
    "        self.scaler = StandardScaler()\n",
    "    \n",
    "    def fit(self, X, y):\n",
    "        if self.algorithm == 'brute':\n",
    "            self.X_train = np.array(X)\n",
    "            \n",
    "            if self.metric == 'euclidean':\n",
    "                self.X_train = self.scaler.fit_transform(self.X_train)\n",
    "        elif self.algorithm == 'kd_tree':\n",
    "            self.tree = KDTree(X)        \n",
    "        self.y = np.array(y)\n",
    "        \n",
    "    def predict(self, X):\n",
    "        self.X_test = X\n",
    "        if self.algorithm == 'brute':\n",
    "            if self.metric == 'euclidean':\n",
    "                self.X_test = self.scaler.transform(X)\n",
    "            \n",
    "            pwdist = pairwise_distances(self.X_test, self.X_train, metric=self.metric)\n",
    "            indices_neighbors = self.k_neighborse(pwdist)\n",
    "        elif self.algorithm == \"kd_tree\":\n",
    "            pwdist, indices_neighbors = self.tree.query(self.X_test, k=self.n_neighbors)\n",
    "        return self.y[np.apply_along_axis(lambda x: np.bincount(x).argmax(), 1, indices_neighbors)]\n",
    "    \n",
    "    def k_neighborse(self, neighbors):\n",
    "        return np.argsort(neighbors, axis=1)[:, :self.n_neighbors]"
   ]
  },
  {
   "cell_type": "markdown",
   "metadata": {},
   "source": [
    "**IRIS**\n",
    "\n",
    "В библиотеке scikit-learn есть несколько датасетов из коробки. Один из них [Ирисы Фишера](https://ru.wikipedia.org/wiki/%D0%98%D1%80%D0%B8%D1%81%D1%8B_%D0%A4%D0%B8%D1%88%D0%B5%D1%80%D0%B0)"
   ]
  },
  {
   "cell_type": "code",
   "execution_count": 99,
   "metadata": {
    "jupyter": {
     "outputs_hidden": true
    }
   },
   "outputs": [],
   "source": [
    "iris = datasets.load_iris()"
   ]
  },
  {
   "cell_type": "code",
   "execution_count": 100,
   "metadata": {
    "jupyter": {
     "outputs_hidden": true
    }
   },
   "outputs": [],
   "source": [
    "X_train, X_test, y_train, y_test = train_test_split(iris.data, iris.target, test_size=0.1, stratify=iris.target)"
   ]
  },
  {
   "cell_type": "code",
   "execution_count": 101,
   "metadata": {
    "jupyter": {
     "outputs_hidden": true
    }
   },
   "outputs": [],
   "source": [
    "clf = KNeighborsClassifier(n_neighbors=2, algorithm='brute')\n",
    "my_clf = MyKNeighborsClassifier(n_neighbors=2, algorithm='brute')"
   ]
  },
  {
   "cell_type": "code",
   "execution_count": 102,
   "metadata": {
    "jupyter": {
     "outputs_hidden": true
    }
   },
   "outputs": [],
   "source": [
    "clf.fit(X_train, y_train)\n",
    "my_clf.fit(X_train, y_train)"
   ]
  },
  {
   "cell_type": "code",
   "execution_count": 103,
   "metadata": {},
   "outputs": [],
   "source": [
    "sklearn_pred = clf.predict(X_test)\n",
    "my_clf_pred = my_clf.predict(X_test)"
   ]
  },
  {
   "cell_type": "code",
   "execution_count": 104,
   "metadata": {
    "jupyter": {
     "outputs_hidden": true
    }
   },
   "outputs": [],
   "source": [
    "assert abs( accuracy_score(y_test, my_clf_pred) -  accuracy_score(y_test, sklearn_pred ) )<0.005, \"Score must be simillar\""
   ]
  },
  {
   "cell_type": "markdown",
   "metadata": {},
   "source": [
    "### Задание 2 (0.5 балла)\n",
    "\n",
    "Давайте попробуем добиться скорости работы на fit, predict сравнимой со sklearn для iris. Допускается замедление не более чем в 2 раза. \n",
    "Для этого используем numpy. "
   ]
  },
  {
   "cell_type": "code",
   "execution_count": 105,
   "metadata": {
    "jupyter": {
     "outputs_hidden": true
    }
   },
   "outputs": [
    {
     "name": "stdout",
     "output_type": "stream",
     "text": [
      "CPU times: user 0 ns, sys: 0 ns, total: 0 ns\n",
      "Wall time: 1.22 ms\n"
     ]
    },
    {
     "data": {
      "text/plain": [
       "KNeighborsClassifier(algorithm='brute', n_neighbors=2)"
      ]
     },
     "execution_count": 105,
     "metadata": {},
     "output_type": "execute_result"
    }
   ],
   "source": [
    "%time clf.fit(X_train, y_train)"
   ]
  },
  {
   "cell_type": "code",
   "execution_count": 106,
   "metadata": {
    "jupyter": {
     "outputs_hidden": true
    }
   },
   "outputs": [
    {
     "name": "stdout",
     "output_type": "stream",
     "text": [
      "CPU times: user 0 ns, sys: 0 ns, total: 0 ns\n",
      "Wall time: 1.11 ms\n"
     ]
    }
   ],
   "source": [
    "%time my_clf.fit(X_train, y_train)"
   ]
  },
  {
   "cell_type": "code",
   "execution_count": 107,
   "metadata": {
    "jupyter": {
     "outputs_hidden": true
    }
   },
   "outputs": [
    {
     "name": "stdout",
     "output_type": "stream",
     "text": [
      "CPU times: user 15.6 ms, sys: 0 ns, total: 15.6 ms\n",
      "Wall time: 4.76 ms\n"
     ]
    },
    {
     "data": {
      "text/plain": [
       "array([1, 0, 2, 1, 0, 1, 1, 1, 0, 2, 2, 1, 0, 2, 0])"
      ]
     },
     "execution_count": 107,
     "metadata": {},
     "output_type": "execute_result"
    }
   ],
   "source": [
    "%time clf.predict(X_test)"
   ]
  },
  {
   "cell_type": "code",
   "execution_count": 108,
   "metadata": {
    "jupyter": {
     "outputs_hidden": true
    }
   },
   "outputs": [
    {
     "name": "stdout",
     "output_type": "stream",
     "text": [
      "CPU times: user 0 ns, sys: 0 ns, total: 0 ns\n",
      "Wall time: 1.86 ms\n"
     ]
    },
    {
     "data": {
      "text/plain": [
       "array([1, 0, 2, 1, 0, 1, 1, 1, 0, 2, 2, 1, 0, 2, 0])"
      ]
     },
     "execution_count": 108,
     "metadata": {},
     "output_type": "execute_result"
    }
   ],
   "source": [
    "%time my_clf.predict(X_test)"
   ]
  },
  {
   "cell_type": "markdown",
   "metadata": {},
   "source": [
    "### Задание 3 (1 балл)\n",
    "Добавьте algorithm='kd_tree' в реализацию KNN (использовать KDTree из sklearn.neighbors). Необходимо добиться скорости работы на fit,  predict сравнимой со sklearn для iris. Допускается замедление не более чем в 2 раза. \n",
    "Для этого используем numpy. Точность не должна уступать значению KNN из sklearn. "
   ]
  },
  {
   "cell_type": "code",
   "execution_count": 109,
   "metadata": {
    "jupyter": {
     "outputs_hidden": true
    }
   },
   "outputs": [],
   "source": [
    "clf = KNeighborsClassifier(n_neighbors=2, algorithm='kd_tree')\n",
    "my_clf = MyKNeighborsClassifier(n_neighbors=2, algorithm='kd_tree')"
   ]
  },
  {
   "cell_type": "code",
   "execution_count": 110,
   "metadata": {
    "jupyter": {
     "outputs_hidden": true
    }
   },
   "outputs": [],
   "source": [
    "X_train, X_test, y_train, y_test = train_test_split(iris.data, iris.target, test_size=0.1, stratify=iris.target)"
   ]
  },
  {
   "cell_type": "code",
   "execution_count": 111,
   "metadata": {
    "jupyter": {
     "outputs_hidden": true
    }
   },
   "outputs": [
    {
     "name": "stdout",
     "output_type": "stream",
     "text": [
      "CPU times: user 0 ns, sys: 0 ns, total: 0 ns\n",
      "Wall time: 8.85 ms\n"
     ]
    },
    {
     "data": {
      "text/plain": [
       "KNeighborsClassifier(algorithm='kd_tree', n_neighbors=2)"
      ]
     },
     "execution_count": 111,
     "metadata": {},
     "output_type": "execute_result"
    }
   ],
   "source": [
    "%time clf.fit(X_train, y_train)"
   ]
  },
  {
   "cell_type": "code",
   "execution_count": 112,
   "metadata": {
    "jupyter": {
     "outputs_hidden": true
    }
   },
   "outputs": [
    {
     "name": "stdout",
     "output_type": "stream",
     "text": [
      "CPU times: user 0 ns, sys: 0 ns, total: 0 ns\n",
      "Wall time: 214 µs\n"
     ]
    }
   ],
   "source": [
    "%time my_clf.fit(X_train, y_train)"
   ]
  },
  {
   "cell_type": "code",
   "execution_count": 113,
   "metadata": {
    "jupyter": {
     "outputs_hidden": true
    }
   },
   "outputs": [
    {
     "name": "stdout",
     "output_type": "stream",
     "text": [
      "CPU times: user 0 ns, sys: 0 ns, total: 0 ns\n",
      "Wall time: 16.6 ms\n"
     ]
    },
    {
     "data": {
      "text/plain": [
       "array([1, 0, 0, 0, 1, 2, 1, 2, 2, 0, 2, 0, 1, 2, 1])"
      ]
     },
     "execution_count": 113,
     "metadata": {},
     "output_type": "execute_result"
    }
   ],
   "source": [
    "%time clf.predict(X_test)"
   ]
  },
  {
   "cell_type": "code",
   "execution_count": 114,
   "metadata": {
    "jupyter": {
     "outputs_hidden": true
    }
   },
   "outputs": [
    {
     "name": "stdout",
     "output_type": "stream",
     "text": [
      "CPU times: user 0 ns, sys: 0 ns, total: 0 ns\n",
      "Wall time: 946 µs\n"
     ]
    },
    {
     "data": {
      "text/plain": [
       "array([1, 0, 0, 0, 1, 2, 1, 2, 2, 0, 2, 0, 1, 2, 1])"
      ]
     },
     "execution_count": 114,
     "metadata": {},
     "output_type": "execute_result"
    }
   ],
   "source": [
    "%time my_clf.predict(X_test)"
   ]
  },
  {
   "cell_type": "code",
   "execution_count": 115,
   "metadata": {
    "jupyter": {
     "outputs_hidden": true
    }
   },
   "outputs": [],
   "source": [
    "sklearn_pred = clf.predict(X_test)\n",
    "my_clf_pred = my_clf.predict(X_test)\n",
    "assert abs( accuracy_score(y_test, my_clf_pred) -  accuracy_score(y_test, sklearn_pred ) )<0.005, \"Score must be simillar\""
   ]
  },
  {
   "cell_type": "markdown",
   "metadata": {},
   "source": [
    "### Задание 4 (2.5 балла)\n",
    "\n",
    "Рассмотрим новый датасет 20 newsgroups"
   ]
  },
  {
   "cell_type": "code",
   "execution_count": 28,
   "metadata": {
    "jupyter": {
     "outputs_hidden": true
    }
   },
   "outputs": [],
   "source": [
    "newsgroups = fetch_20newsgroups(subset='train',remove=['headers','footers', 'quotes'])"
   ]
  },
  {
   "cell_type": "code",
   "execution_count": 29,
   "metadata": {
    "jupyter": {
     "outputs_hidden": true
    }
   },
   "outputs": [],
   "source": [
    "data = newsgroups['data']\n",
    "target = newsgroups['target']"
   ]
  },
  {
   "cell_type": "markdown",
   "metadata": {},
   "source": [
    "Преобразуйте текстовые данные из data с помощью [CountVectorizer](https://scikit-learn.org/stable/modules/generated/sklearn.feature_extraction.text.CountVectorizer.html). Словарь можно ограничить по частотности."
   ]
  },
  {
   "cell_type": "code",
   "execution_count": 5,
   "metadata": {
    "jupyter": {
     "outputs_hidden": true
    }
   },
   "outputs": [],
   "source": [
    "vectorizer = CountVectorizer()\n",
    "X = vectorizer.fit_transform(data)\n",
    "X = np.array(X.toarray())"
   ]
  },
  {
   "cell_type": "code",
   "execution_count": 42,
   "metadata": {},
   "outputs": [],
   "source": [
    "vectorizer_tfidf = TfidfVectorizer()\n",
    "X_tfidf = np.array(vectorizer_tfidf.fit_transform(data).toarray())"
   ]
  },
  {
   "cell_type": "markdown",
   "metadata": {},
   "source": [
    "*Так мы получили векторное представление наших текстов. Значит можно приступать к задаче обучения модели*"
   ]
  },
  {
   "cell_type": "markdown",
   "metadata": {},
   "source": [
    "Реализуйте разбиение выборки для кросс-валидации на 3 фолдах. Разрешено использовать sklearn.cross_validation"
   ]
  },
  {
   "cell_type": "code",
   "execution_count": 24,
   "metadata": {},
   "outputs": [
    {
     "data": {
      "text/plain": [
       "KFold(n_splits=3, random_state=None, shuffle=False)"
      ]
     },
     "execution_count": 24,
     "metadata": {},
     "output_type": "execute_result"
    }
   ],
   "source": [
    "n_fold = 3\n",
    "kf = KFold(n_splits=n_fold)\n",
    "kf"
   ]
  },
  {
   "cell_type": "code",
   "execution_count": 34,
   "metadata": {},
   "outputs": [],
   "source": [
    "def plot_clf(results, array, color):    \n",
    "    fig, ax = plt.subplots()\n",
    "    ax.plot(array, results, color = color)\n",
    "\n",
    "    ax.set(xlabel ='n_neighbors', ylabel ='score', ylim =(0, 1))\n",
    "    ax.grid()\n",
    "\n",
    "    plt.show()"
   ]
  },
  {
   "cell_type": "code",
   "execution_count": 26,
   "metadata": {},
   "outputs": [],
   "source": [
    "def k_neighborse(X, target, metrics=[\"euclidean\", \"cosine\"], classifier=MyKNeighborsClassifier):\n",
    "    scores = []\n",
    "    for train_index, test_index in kf.split(X):\n",
    "        print(\"TRAIN:\", train_index, \"TEST:\", test_index)\n",
    "        X_train, X_test = X[train_index], X[test_index]\n",
    "        y_train, y_test = target[train_index], target[test_index]\n",
    "        metric_score = []\n",
    "        for metric in metrics:\n",
    "            score = []\n",
    "            \n",
    "            for i in range(1, 11):\n",
    "                clf = classifier(n_neighbors=i, algorithm='brute', metric=metric)\n",
    "                clf.fit(X_train, y_train)\n",
    "                y_pred = clf.predict(X_test)\n",
    "                result = accuracy_score(y_test, y_pred)\n",
    "                score.append(result)\n",
    "                print(f\"i = {i}, metric = {metric}, score = {result}\")\n",
    "                \n",
    "            metric_score.append(score)\n",
    "        scores.append(metric_score)\n",
    "    return scores"
   ]
  },
  {
   "cell_type": "code",
   "execution_count": 27,
   "metadata": {},
   "outputs": [
    {
     "name": "stdout",
     "output_type": "stream",
     "text": [
      "TRAIN: [ 3772  3773  3774 ... 11311 11312 11313] TEST: [   0    1    2 ... 3769 3770 3771]\n",
      "i = 1, metric = euclidean, score = 0.2576882290562036\n",
      "i = 2, metric = euclidean, score = 0.20625662778366913\n",
      "i = 3, metric = euclidean, score = 0.1651643690349947\n",
      "i = 4, metric = euclidean, score = 0.14422057264050903\n",
      "i = 5, metric = euclidean, score = 0.1283138918345705\n",
      "i = 6, metric = euclidean, score = 0.11240721102863202\n",
      "i = 7, metric = euclidean, score = 0.10047720042417815\n",
      "i = 8, metric = euclidean, score = 0.09278897136797455\n",
      "i = 9, metric = euclidean, score = 0.08854718981972429\n",
      "i = 10, metric = euclidean, score = 0.0861611876988335\n",
      "i = 1, metric = cosine, score = 0.2953340402969247\n",
      "i = 2, metric = cosine, score = 0.24284199363732767\n",
      "i = 3, metric = cosine, score = 0.2192470837751856\n",
      "i = 4, metric = cosine, score = 0.20519618239660659\n",
      "i = 5, metric = cosine, score = 0.19034994697773064\n",
      "i = 6, metric = cosine, score = 0.18160127253446448\n",
      "i = 7, metric = cosine, score = 0.17444326617179215\n",
      "i = 8, metric = cosine, score = 0.16887592788971367\n",
      "i = 9, metric = cosine, score = 0.1627783669141039\n",
      "i = 10, metric = cosine, score = 0.15641569459172852\n",
      "TRAIN: [    0     1     2 ... 11311 11312 11313] TEST: [3772 3773 3774 ... 7540 7541 7542]\n",
      "i = 1, metric = euclidean, score = 0.25430920180323524\n",
      "i = 2, metric = euclidean, score = 0.20392468841156192\n",
      "i = 3, metric = euclidean, score = 0.16971625563511006\n",
      "i = 4, metric = euclidean, score = 0.14691063378414213\n",
      "i = 5, metric = euclidean, score = 0.1262264651286131\n",
      "i = 6, metric = euclidean, score = 0.11667992574913816\n",
      "i = 7, metric = euclidean, score = 0.10872447626624238\n",
      "i = 8, metric = euclidean, score = 0.09944311853619729\n",
      "i = 9, metric = euclidean, score = 0.09334394059931053\n",
      "i = 10, metric = euclidean, score = 0.09334394059931053\n",
      "i = 1, metric = cosine, score = 0.2869265446831079\n",
      "i = 2, metric = cosine, score = 0.24767966056748872\n",
      "i = 3, metric = cosine, score = 0.2158578626359056\n",
      "i = 4, metric = cosine, score = 0.2002121453195439\n",
      "i = 5, metric = cosine, score = 0.19040042429063908\n",
      "i = 6, metric = cosine, score = 0.18456642800318218\n",
      "i = 7, metric = cosine, score = 0.1779368867674357\n",
      "i = 8, metric = cosine, score = 0.16918589233625034\n",
      "i = 9, metric = cosine, score = 0.16653407584195173\n",
      "i = 10, metric = cosine, score = 0.16520816759480245\n",
      "TRAIN: [   0    1    2 ... 7540 7541 7542] TEST: [ 7543  7544  7545 ... 11311 11312 11313]\n",
      "i = 1, metric = euclidean, score = 0.25404402015380534\n",
      "i = 2, metric = euclidean, score = 0.19994696367011403\n",
      "i = 3, metric = euclidean, score = 0.16441262264651285\n",
      "i = 4, metric = euclidean, score = 0.1386900026518165\n",
      "i = 5, metric = euclidean, score = 0.1249005568814638\n",
      "i = 6, metric = euclidean, score = 0.11455847255369929\n",
      "i = 7, metric = euclidean, score = 0.10474675152479448\n",
      "i = 8, metric = euclidean, score = 0.09891275523733757\n",
      "i = 9, metric = euclidean, score = 0.09360912224874039\n",
      "i = 10, metric = euclidean, score = 0.09228321400159109\n",
      "i = 1, metric = cosine, score = 0.2948819941660037\n",
      "i = 2, metric = cosine, score = 0.2431715725271811\n",
      "i = 3, metric = cosine, score = 0.2243436754176611\n",
      "i = 4, metric = cosine, score = 0.2060461416070008\n",
      "i = 5, metric = cosine, score = 0.2012728719172633\n",
      "i = 6, metric = cosine, score = 0.19464333068151685\n",
      "i = 7, metric = cosine, score = 0.18668788119862106\n",
      "i = 8, metric = cosine, score = 0.18032352161230442\n",
      "i = 9, metric = cosine, score = 0.1758154335719968\n",
      "i = 10, metric = cosine, score = 0.16945107398568018\n"
     ]
    }
   ],
   "source": [
    "scores = k_neighborse(X, target)"
   ]
  },
  {
   "cell_type": "code",
   "execution_count": 13,
   "metadata": {},
   "outputs": [
    {
     "data": {
      "text/plain": [
       "array([[[0.25768823, 0.20625663, 0.16516437, 0.14422057, 0.12831389,\n",
       "         0.11240721, 0.1004772 , 0.09278897, 0.08854719, 0.08616119],\n",
       "        [0.29533404, 0.24284199, 0.21924708, 0.20519618, 0.19034995,\n",
       "         0.18160127, 0.17444327, 0.16887593, 0.16277837, 0.15641569]],\n",
       "\n",
       "       [[0.2543092 , 0.20392469, 0.16971626, 0.14691063, 0.12622647,\n",
       "         0.11667993, 0.10872448, 0.09944312, 0.09334394, 0.09334394],\n",
       "        [0.28692654, 0.24767966, 0.21585786, 0.20021215, 0.19040042,\n",
       "         0.18456643, 0.17793689, 0.16918589, 0.16653408, 0.16520817]],\n",
       "\n",
       "       [[0.25404402, 0.19994696, 0.16441262, 0.13869   , 0.12490056,\n",
       "         0.11455847, 0.10474675, 0.09891276, 0.09360912, 0.09228321],\n",
       "        [0.29488199, 0.24317157, 0.22434368, 0.20604614, 0.20127287,\n",
       "         0.19464333, 0.18668788, 0.18032352, 0.17581543, 0.16945107]]])"
      ]
     },
     "execution_count": 13,
     "metadata": {},
     "output_type": "execute_result"
    }
   ],
   "source": [
    "scores_arr = np.array(scores)\n",
    "scores_arr"
   ]
  },
  {
   "cell_type": "code",
   "execution_count": 17,
   "metadata": {},
   "outputs": [],
   "source": [
    "adv_scores_euclidean = scores_arr[:, 0, :].mean(axis=0)\n",
    "adv_scores_cosine = scores_arr[:, 1, :].mean(axis=0)"
   ]
  },
  {
   "cell_type": "code",
   "execution_count": 18,
   "metadata": {},
   "outputs": [
    {
     "data": {
      "text/plain": [
       "array([0.25534715, 0.20337609, 0.16643108, 0.14327373, 0.12648031,\n",
       "       0.11454854, 0.10464948, 0.09704828, 0.09183342, 0.09059611])"
      ]
     },
     "execution_count": 18,
     "metadata": {},
     "output_type": "execute_result"
    }
   ],
   "source": [
    "adv_scores_euclidean"
   ]
  },
  {
   "cell_type": "code",
   "execution_count": 48,
   "metadata": {},
   "outputs": [
    {
     "name": "stdout",
     "output_type": "stream",
     "text": [
      "TRAIN: [ 3772  3773  3774 ... 11311 11312 11313] TEST: [   0    1    2 ... 3769 3770 3771]\n",
      "i = 1, metric = euclidean, score = 0.13626723223753975\n",
      "i = 2, metric = euclidean, score = 0.09437963944856839\n",
      "i = 3, metric = euclidean, score = 0.08669141039236479\n",
      "i = 4, metric = euclidean, score = 0.07900318133616119\n",
      "i = 5, metric = euclidean, score = 0.07025450689289502\n",
      "i = 6, metric = euclidean, score = 0.06203605514316013\n",
      "i = 7, metric = euclidean, score = 0.06521739130434782\n",
      "i = 8, metric = euclidean, score = 0.06707317073170732\n",
      "i = 9, metric = euclidean, score = 0.06389183457051961\n",
      "i = 10, metric = euclidean, score = 0.06495227995758218\n",
      "i = 1, metric = cosine, score = 0.588016967126193\n",
      "i = 2, metric = cosine, score = 0.545864262990456\n",
      "i = 3, metric = cosine, score = 0.5206786850477201\n",
      "i = 4, metric = cosine, score = 0.4960233297985154\n",
      "i = 5, metric = cosine, score = 0.4777306468716861\n",
      "i = 6, metric = cosine, score = 0.4695121951219512\n",
      "i = 7, metric = cosine, score = 0.454135737009544\n",
      "i = 8, metric = cosine, score = 0.44644750795334043\n",
      "i = 9, metric = cosine, score = 0.43637327677624604\n",
      "i = 10, metric = cosine, score = 0.4236479321314952\n",
      "TRAIN: [    0     1     2 ... 11311 11312 11313] TEST: [3772 3773 3774 ... 7540 7541 7542]\n",
      "i = 1, metric = euclidean, score = 0.15725271811190666\n",
      "i = 2, metric = euclidean, score = 0.10342084327764518\n",
      "i = 3, metric = euclidean, score = 0.08406258286926545\n",
      "i = 4, metric = euclidean, score = 0.08353221957040573\n",
      "i = 5, metric = euclidean, score = 0.07345531689207106\n",
      "i = 6, metric = euclidean, score = 0.0713338636966322\n",
      "i = 7, metric = euclidean, score = 0.06470432246088571\n",
      "i = 8, metric = euclidean, score = 0.06417395916202599\n",
      "i = 9, metric = euclidean, score = 0.06284805091487669\n",
      "i = 10, metric = euclidean, score = 0.06284805091487669\n",
      "i = 1, metric = cosine, score = 0.5926809864757359\n",
      "i = 2, metric = cosine, score = 0.5399098382391938\n",
      "i = 3, metric = cosine, score = 0.48952532484752054\n",
      "i = 4, metric = cosine, score = 0.47175815433572\n",
      "i = 5, metric = cosine, score = 0.45584725536992843\n",
      "i = 6, metric = cosine, score = 0.43648899496154864\n",
      "i = 7, metric = cosine, score = 0.42561654733492443\n",
      "i = 8, metric = cosine, score = 0.41766109785202865\n",
      "i = 9, metric = cosine, score = 0.40519756032882526\n",
      "i = 10, metric = cosine, score = 0.39856801909307876\n",
      "TRAIN: [   0    1    2 ... 7540 7541 7542] TEST: [ 7543  7544  7545 ... 11311 11312 11313]\n",
      "i = 1, metric = euclidean, score = 0.145319543887563\n",
      "i = 2, metric = euclidean, score = 0.09360912224874039\n",
      "i = 3, metric = euclidean, score = 0.07769822328294881\n",
      "i = 4, metric = euclidean, score = 0.0673561389551843\n",
      "i = 5, metric = euclidean, score = 0.06682577565632458\n",
      "i = 6, metric = euclidean, score = 0.061522142667727396\n",
      "i = 7, metric = euclidean, score = 0.05940068947228852\n",
      "i = 8, metric = euclidean, score = 0.05833996287456908\n",
      "i = 9, metric = euclidean, score = 0.05780959957570936\n",
      "i = 10, metric = euclidean, score = 0.06178732431715725\n",
      "i = 1, metric = cosine, score = 0.6070007955449482\n",
      "i = 2, metric = cosine, score = 0.5526385574118271\n",
      "i = 3, metric = cosine, score = 0.5107398568019093\n",
      "i = 4, metric = cosine, score = 0.4826306019623442\n",
      "i = 5, metric = cosine, score = 0.45664280031821797\n",
      "i = 6, metric = cosine, score = 0.43648899496154864\n",
      "i = 7, metric = cosine, score = 0.41951736939803763\n",
      "i = 8, metric = cosine, score = 0.40652346857597454\n",
      "i = 9, metric = cosine, score = 0.3975072924953593\n",
      "i = 10, metric = cosine, score = 0.390612569610183\n"
     ]
    }
   ],
   "source": [
    "scores_tfidf = k_neighborse(X_tfidf, target)"
   ]
  },
  {
   "cell_type": "code",
   "execution_count": 14,
   "metadata": {},
   "outputs": [
    {
     "data": {
      "text/plain": [
       "array([[[0.13626723, 0.09437964, 0.08669141, 0.07900318, 0.07025451,\n",
       "         0.06203606, 0.06521739, 0.06707317, 0.06389183, 0.06495228],\n",
       "        [0.58801697, 0.54586426, 0.52067869, 0.49602333, 0.47773065,\n",
       "         0.4695122 , 0.45413574, 0.44644751, 0.43637328, 0.42364793]],\n",
       "\n",
       "       [[0.15725272, 0.10342084, 0.08406258, 0.08353222, 0.07345532,\n",
       "         0.07133386, 0.06470432, 0.06417396, 0.06284805, 0.06284805],\n",
       "        [0.59268099, 0.53990984, 0.48952532, 0.47175815, 0.45584726,\n",
       "         0.43648899, 0.42561655, 0.4176611 , 0.40519756, 0.39856802]],\n",
       "\n",
       "       [[0.14531954, 0.09360912, 0.07769822, 0.06735614, 0.06682578,\n",
       "         0.06152214, 0.05940069, 0.05833996, 0.0578096 , 0.06178732],\n",
       "        [0.6070008 , 0.55263856, 0.51073986, 0.4826306 , 0.4566428 ,\n",
       "         0.43648899, 0.41951737, 0.40652347, 0.39750729, 0.39061257]]])"
      ]
     },
     "execution_count": 14,
     "metadata": {},
     "output_type": "execute_result"
    }
   ],
   "source": [
    "scores_tfidf"
   ]
  },
  {
   "cell_type": "code",
   "execution_count": 6,
   "metadata": {},
   "outputs": [],
   "source": [
    "scores_tfidf = np.array(scores_tfidf)\n",
    "adv_scores_euclidean_tfidf = scores_tfidf[:, 0, :].mean(axis=0)\n",
    "adv_scores_cosine_tfidf = scores_tfidf[:, 1, :].mean(axis=0)"
   ]
  },
  {
   "cell_type": "code",
   "execution_count": 7,
   "metadata": {},
   "outputs": [
    {
     "data": {
      "text/plain": [
       "array([0.14627983, 0.09713653, 0.08281741, 0.07663051, 0.07017853,\n",
       "       0.06496402, 0.06310747, 0.0631957 , 0.0615165 , 0.06319589])"
      ]
     },
     "execution_count": 7,
     "metadata": {},
     "output_type": "execute_result"
    }
   ],
   "source": [
    "adv_scores_euclidean_tfidf"
   ]
  },
  {
   "cell_type": "code",
   "execution_count": 8,
   "metadata": {},
   "outputs": [
    {
     "data": {
      "text/plain": [
       "array([0.59589958, 0.54613755, 0.50698129, 0.4834707 , 0.4634069 ,\n",
       "       0.44749673, 0.43308988, 0.42354402, 0.41302604, 0.40427617])"
      ]
     },
     "execution_count": 8,
     "metadata": {},
     "output_type": "execute_result"
    }
   ],
   "source": [
    "adv_scores_cosine_tfidf"
   ]
  },
  {
   "cell_type": "code",
   "execution_count": 19,
   "metadata": {},
   "outputs": [
    {
     "data": {
      "image/png": "[encoded data removed]",
      "text/plain": [
       "<Figure size 648x648 with 1 Axes>"
      ]
     },
     "metadata": {
      "needs_background": "light"
     },
     "output_type": "display_data"
    }
   ],
   "source": [
    "fig, ax = plt.subplots(figsize=(9,9))\n",
    "ax.plot(list(range(1, 11)), adv_scores_euclidean, color = 'g', label='euclidean')\n",
    "ax.plot(list(range(1, 11)), adv_scores_cosine, color = 'b', label='cosine')\n",
    "ax.plot(list(range(1, 11)), adv_scores_euclidean_tfidf, color = 'r', label='euclidean tfidf')\n",
    "ax.plot(list(range(1, 11)), adv_scores_cosine_tfidf, color = 'm', label='cosine tfidf')\n",
    "\n",
    "ax.set(xlabel ='n_neighbors', ylabel ='score')\n",
    "ax.grid(True)\n",
    "ax.legend()\n",
    "plt.show()"
   ]
  },
  {
   "cell_type": "markdown",
   "metadata": {},
   "source": [
    "Напишите метод, позволяющий найти оптимальное количество ближайших соседей(дающее максимальную точность в среднем на валидации на 3 фолдах).\n",
    "Постройте график зависимости средней точности от количества соседей. Можно рассмотреть число соседей от 1 до 10."
   ]
  },
  {
   "cell_type": "markdown",
   "metadata": {},
   "source": [
    "Как изменится качество на валидации, если:\n",
    "\n",
    "1. Используется косинусная метрика вместо евклидовой.\n",
    "2. К текстам применяется TfIdf векторизацию( sklearn.feature_extraction.text.TfidfVectorizer)\n",
    "\n",
    "Сравните модели, выберите лучшую."
   ]
  },
  {
   "cell_type": "markdown",
   "metadata": {},
   "source": [
    "Загрузим  теперь test  часть нашей выборки и преобразуем её аналогично с train частью. Не забудьте, что наборы слов в train и test части могут отличаться."
   ]
  },
  {
   "cell_type": "code",
   "execution_count": 36,
   "metadata": {
    "jupyter": {
     "outputs_hidden": true
    }
   },
   "outputs": [],
   "source": [
    "newsgroups_test = fetch_20newsgroups(subset='test',remove=['headers','footers', 'quotes'])"
   ]
  },
  {
   "cell_type": "markdown",
   "metadata": {},
   "source": [
    "Оценим точность вашей лучшей модели на test части датасета. Отличается ли оно от кросс-валидации? Попробуйте сделать выводы, почему отличается качество."
   ]
  },
  {
   "cell_type": "code",
   "execution_count": 37,
   "metadata": {
    "jupyter": {
     "outputs_hidden": true
    }
   },
   "outputs": [],
   "source": [
    "data_test = newsgroups_test['data']\n",
    "target_test = newsgroups_test['target']"
   ]
  },
  {
   "cell_type": "code",
   "execution_count": 22,
   "metadata": {},
   "outputs": [],
   "source": [
    "newsgroups_X = vectorizer.transform(data_test)\n",
    "newsgroups_X = np.array(newsgroups_X.toarray())"
   ]
  },
  {
   "cell_type": "code",
   "execution_count": 43,
   "metadata": {},
   "outputs": [],
   "source": [
    "newsgroups_X_tfidf = np.array(vectorizer_tfidf.transform(data_test).toarray())"
   ]
  },
  {
   "cell_type": "code",
   "execution_count": 72,
   "metadata": {},
   "outputs": [],
   "source": [
    "score = []\n",
    "for i in range(1, 11):\n",
    "    clf = MyKNeighborsClassifier(n_neighbors=i, algorithm='brute', metric=\"cosine\")\n",
    "    clf.fit(X_tfidf, target)\n",
    "    y_pred = clf.predict(newsgroups_X_tfidf)\n",
    "    result = accuracy_score(target_test, y_pred)\n",
    "    score.append(result)"
   ]
  },
  {
   "cell_type": "code",
   "execution_count": 70,
   "metadata": {},
   "outputs": [
    {
     "data": {
      "image/png": "[encoded data removed]",
      "text/plain": [
       "<Figure size 648x648 with 1 Axes>"
      ]
     },
     "metadata": {
      "needs_background": "light"
     },
     "output_type": "display_data"
    }
   ],
   "source": [
    "fig, ax = plt.subplots(figsize=(9,9))\n",
    "ax.plot(list(range(1, 11)), adv_scores_euclidean, color = 'g', label='euclidean')\n",
    "ax.plot(list(range(1, 11)), adv_scores_cosine, color = 'b', label='cosine')\n",
    "ax.plot(list(range(1, 11)), adv_scores_euclidean_tfidf, color = 'r', label='euclidean tfidf')\n",
    "ax.plot(list(range(1, 11)), adv_scores_cosine_tfidf, color = 'm', label='cosine tfidf')\n",
    "ax.plot(list(range(1, 11)), score, color = 'k', label='cosine tfidf test')\n",
    "\n",
    "ax.set(xlabel ='n_neighbors', ylabel ='score', ylim =(0, 1))\n",
    "ax.grid(True)\n",
    "ax.legend()\n",
    "plt.show()"
   ]
  }
 ],
 "metadata": {
  "kernelspec": {
   "display_name": "Python 3 (ipykernel)",
   "language": "python",
   "name": "python3"
  },
  "language_info": {
   "codemirror_mode": {
    "name": "ipython",
    "version": 3
   },
   "file_extension": ".py",
   "mimetype": "text/x-python",
   "name": "python",
   "nbconvert_exporter": "python",
   "pygments_lexer": "ipython3",
   "version": "3.8.10"
  },
  "widgets": {
   "application/vnd.jupyter.widget-state+json": {
    "state": {},
    "version_major": 2,
    "version_minor": 0
   }
  }
 },
 "nbformat": 4,
 "nbformat_minor": 4
}
